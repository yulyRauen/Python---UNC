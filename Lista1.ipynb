{
  "nbformat": 4,
  "nbformat_minor": 0,
  "metadata": {
    "colab": {
      "provenance": [],
      "authorship_tag": "ABX9TyNXS9Ri6BBLIiPkH5m7z7Ji",
      "include_colab_link": true
    },
    "kernelspec": {
      "name": "python3",
      "display_name": "Python 3"
    },
    "language_info": {
      "name": "python"
    }
  },
  "cells": [
    {
      "cell_type": "markdown",
      "metadata": {
        "id": "view-in-github",
        "colab_type": "text"
      },
      "source": [
        "<a href=\"https://colab.research.google.com/github/yulyRauen/Python---UNC/blob/main/Lista1.ipynb\" target=\"_parent\"><img src=\"https://colab.research.google.com/assets/colab-badge.svg\" alt=\"Open In Colab\"/></a>"
      ]
    },
    {
      "cell_type": "markdown",
      "source": [
        "1. Desenvolva um programa que solicite ao usuário a quantidade de galões de\n",
        "combustível que deseja abastecer e converta esse valor para litros. Considere que 1\n",
        "galão é aproximadamente 3,78541 litros. Imprima o resultado na tela."
      ],
      "metadata": {
        "id": "QeT8_3RR6cT1"
      }
    },
    {
      "cell_type": "code",
      "source": [
        "quantidade = float(input('Digite a quantidade de galões de combustível que deseja abastecer: '))\n",
        "valorLitro = 3.78541\n",
        "\n",
        "print(quantidade * valorLitro)"
      ],
      "metadata": {
        "colab": {
          "base_uri": "https://localhost:8080/"
        },
        "id": "Xe5Zj_Le6isz",
        "outputId": "cf504e5b-bcc0-48ba-a638-ec8f77edfdf0"
      },
      "execution_count": null,
      "outputs": [
        {
          "output_type": "stream",
          "name": "stdout",
          "text": [
            "Digite a quantidade de galões de combustível que deseja abastecer: 2.45\n",
            "9.274254500000001\n"
          ]
        }
      ]
    },
    {
      "cell_type": "markdown",
      "source": [
        "2 - Crie um programa que receba três notas de um aluno e calcule a média ponderada.\n",
        "Considere que as notas têm pesos diferentes: a primeira nota tem peso 2, a segunda\n",
        "nota tem peso 3 e a terceira nota tem peso 5."
      ],
      "metadata": {
        "id": "45661K3I8kgU"
      }
    },
    {
      "cell_type": "code",
      "source": [
        "nota1 = (float(input('Digite a primeira nota: ')))\n",
        "nota2 = (float(input('Digite a segunda nota: ')))\n",
        "nota3 = (float(input('Digite a terceira nota: ')))\n",
        "\n",
        "notaFinal = ((nota1*2) + (nota2*3) + (nota3*5))/10\n",
        "\n",
        "print(notaFinal)"
      ],
      "metadata": {
        "colab": {
          "base_uri": "https://localhost:8080/"
        },
        "id": "CW2a0i3e8oem",
        "outputId": "b0a32e96-e777-4c58-9bbc-40ecbd079200"
      },
      "execution_count": null,
      "outputs": [
        {
          "output_type": "stream",
          "name": "stdout",
          "text": [
            "Digite a primeira nota: 6\n",
            "Digite a segunda nota: 8\n",
            "Digite a terceira nota: 9\n",
            "8.1\n"
          ]
        }
      ]
    },
    {
      "cell_type": "markdown",
      "source": [
        "3. Desenvolva um programa que receba três números do usuário e determine qual é o\n",
        "maior deles."
      ],
      "metadata": {
        "id": "DT3ZZJHm-d5K"
      }
    },
    {
      "cell_type": "code",
      "source": [
        "numero1 = (float(input('Digite o primeiro número: ')))\n",
        "numero2 = (float(input('Digite o segundo número: ')))\n",
        "numero3 = (float(input('Digite o terceiro número: ')))\n",
        "\n",
        "if (numero1 > numero2 and numero1 > numero3):\n",
        "  print('O primeiro número é o de maior valor')\n",
        "\n",
        "elif (numero2 > numero1 and numero2 > numero3):\n",
        "  print('O segundo número é o de maior valor')\n",
        "\n",
        "elif (numero3 > numero1 and numero3 > numero2):\n",
        "  print('O terceiro 2número é o de maior valor')\n",
        "\n",
        "else:\n",
        "  print('Não foi identificado número maior')"
      ],
      "metadata": {
        "colab": {
          "base_uri": "https://localhost:8080/"
        },
        "id": "uxJCk3FL-e1o",
        "outputId": "fafb7b62-6e34-4137-bd08-051e04962808"
      },
      "execution_count": null,
      "outputs": [
        {
          "output_type": "stream",
          "name": "stdout",
          "text": [
            "Digite o primeiro número: 2\n",
            "Digite o segundo número: 2\n",
            "Digite o terceiro número: 2\n",
            "Não foi identificado número maior\n"
          ]
        }
      ]
    },
    {
      "cell_type": "markdown",
      "source": [
        "4. Escreva um programa que recebe como entrada o salário base de um funcionário e o número de horas extras trabalhadas. Calcule o salário total, considerando que cada hora extra é paga com um acréscimo de 50% sobre o valor da hora normal. Imprima o salário total na tela.\n",
        "\n"
      ],
      "metadata": {
        "id": "ouDkvnLCASIt"
      }
    },
    {
      "cell_type": "code",
      "source": [
        "salarioBase = (float(input('Digite o seu salário base: ')))\n",
        "horasExtras = (float(input('Digite a quantidade de horas extras trabalhadas: ')))\n",
        "valorHoraTrabalhada = salarioBase/220\n",
        "\n",
        "valorHoraExtras = horasExtras * valorHoraTrabalhada * 1.5\n",
        "\n",
        "salarioTotal = salarioBase + valorHoraExtras\n",
        "salarioFormatado = \"{:.2f}\".format(salarioTotal)\n",
        "\n",
        "print('O salário total é: R$', salarioFormatado)"
      ],
      "metadata": {
        "id": "Tg1jSfk0AVPY",
        "colab": {
          "base_uri": "https://localhost:8080/"
        },
        "outputId": "da7b41da-a6b4-4e2f-f345-e89d91ab3cf0"
      },
      "execution_count": 12,
      "outputs": [
        {
          "output_type": "stream",
          "name": "stdout",
          "text": [
            "Digite o seu salário base: 1500\n",
            "Digite a quantidade de horas extras trabalhadas: 2\n",
            "O salário total é: R$ 1520.45\n"
          ]
        }
      ]
    },
    {
      "cell_type": "markdown",
      "source": [
        "5. Desenvolva um programa que simula uma loja online. Solicite ao usuário o nome, o preço e a quantidade de um produto que ele deseja comprar. Calcule o valor total da compra e aplique um desconto de 10% se a quantidade comprada for maior que 10 unidades. Imprima o valor final a ser pago."
      ],
      "metadata": {
        "id": "RBOYWEREWUoI"
      }
    },
    {
      "cell_type": "code",
      "source": [
        "nomeUsuario = (input('Digite seu nome: '))\n",
        "nomeProduto = (input('Informe qual o produto da compra: '))\n",
        "precoProduto = (float(input('Valor da unidade do produto: ')))\n",
        "quantidadeProduto = (int(input('Quantas unidades compradas: ')))\n",
        "\n",
        "valorCompra = precoProduto * quantidadeProduto\n",
        "\n",
        "valorCompraFormatado = \"{:.2f}\".format(valorCompra)\n",
        "\n",
        "if (quantidadeProduto >= 10):\n",
        "  desconto = valorCompra * 0.1\n",
        "  valorCompra -= desconto\n",
        "\n",
        "  print('Você comprou mais de 10 unidades, por isso ganhou um desconto de 10%!!!')\n",
        "  print('Sua compra ficou no valor de R$', valorCompraFormatado)\n",
        "else:\n",
        "  print('O valor total da sua compra é de R$', valorCompraFormatado)"
      ],
      "metadata": {
        "colab": {
          "base_uri": "https://localhost:8080/"
        },
        "id": "9Mw0OWBeWZfd",
        "outputId": "03ccf36b-744d-46c4-f7ea-c19c29ad30fa"
      },
      "execution_count": 22,
      "outputs": [
        {
          "output_type": "stream",
          "name": "stdout",
          "text": [
            "Digite seu nome: yuly\n",
            "Informe qual o produto da compra: camiseta\n",
            "Valor da unidade do produto: 1.99\n",
            "Quantas unidades compradas: 12\n",
            "Você comprou mais de 10 unidades, por isso ganhou um desconto de 10%!!!\n",
            "Sua compra ficou no valor de R$ 23.88\n"
          ]
        }
      ]
    },
    {
      "cell_type": "markdown",
      "source": [
        "6. Faça um programa que simule uma calculadora de financiamento de veículos. Solicite ao usuário o valor do veículo, a quantidade de parcelas desejada e a taxa de juros mensal. Calcule e imprima o valor total a ser pago, considerando o financiamento."
      ],
      "metadata": {
        "id": "ZMEe8lxgaxRY"
      }
    },
    {
      "cell_type": "code",
      "source": [
        "print('----------------------CALCULADORA DE FINANCIAMENTO DE VEÍCULOS-----------------------------')\n",
        "\n",
        "valorVeiculo = (float(input('Digite o valor do veículo: ')))\n",
        "quantidadeParcelas = (int(input('Digite a quantidade de parcelas desejada: ')))\n",
        "taxaMensal = (float(input('Digite a taxa de juros mensal (%): '))) / 100\n",
        "\n",
        "financiamento = valorVeiculo * (1 + taxaMensal)**quantidadeParcelas\n",
        "financiamentoFormatado = \"{:.2f}\".format(financiamento)\n",
        "\n",
        "print('Valor total: ', financiamentoFormatado)"
      ],
      "metadata": {
        "colab": {
          "base_uri": "https://localhost:8080/"
        },
        "id": "k7hsLtJKa08d",
        "outputId": "982d0f14-a124-49b7-a652-527d095e4a48"
      },
      "execution_count": 29,
      "outputs": [
        {
          "output_type": "stream",
          "name": "stdout",
          "text": [
            "----------------------CALCULADORA DE FINANCIAMENTO DE VEÍCULOS-----------------------------\n",
            "Digite o valor do veículo: 10000\n",
            "Digite a quantidade de parcelas desejada: 6\n",
            "Digite a taxa de juros mensal (%): 5\n",
            "Valor total:  13400.96\n"
          ]
        }
      ]
    }
  ]
}